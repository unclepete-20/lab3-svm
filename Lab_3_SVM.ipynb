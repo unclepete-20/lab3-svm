{
  "cells": [
    {
      "cell_type": "markdown",
      "metadata": {
        "id": "view-in-github",
        "colab_type": "text"
      },
      "source": [
        "<a href=\"https://colab.research.google.com/github/unclepete-20/lab3-svm/blob/main/Lab_3_SVM.ipynb\" target=\"_parent\"><img src=\"https://colab.research.google.com/assets/colab-badge.svg\" alt=\"Open In Colab\"/></a>"
      ]
    },
    {
      "cell_type": "markdown",
      "metadata": {
        "tags": [],
        "id": "7jRJb1QZfaGS"
      },
      "source": [
        "# Support Vector Machines - SVM\n",
        "## Laboratorio 3\n",
        "## Integrantes:\n",
        "- Pedro Pablo Arriola Jiménez (20188)\n",
        "- José Rodrigo Barrera (20807)\n",
        "\n",
        "## [Fraude en el Vino](https://en.wikipedia.org/wiki/Wine_fraud)\n",
        "\n",
        "El fraude en el vino se relaciona a los aspectos comerciales del vino.  El tipo más prevalente de fraude es aquel en el cual los vinos son adulterados, generalmente con la adición de productos más baratos (e.g. jugos) y, a veces, con químicos dañinos y endulcorantes (para compensar el color o sabor).\n",
        "\n",
        "La falsificación y la re-etiquetación de vinos inferiores y más baratos haciéndolos parecer marcas más caras es otro tipo común de fraude con vino.\n",
        "\n",
        "<img src=\"wine.jpeg\">\n",
        "\n",
        "## Objetivos del Laboratorio\n",
        "\n",
        "Una compañía distribuidora, que recientemente fue víctima de fraude, ha completado una auditoría de varias muestras de vino a través del uso de análisis químico.  La compañía se especializa en la exportación de vinos de una calidad extremadamente alta y muy valiosos.  El fraude fue cometido por un proveedor que intentó pasar vinos baratos, de calidad inferior, como vinos de más alta gama.  La compañía distribuidora los ha contratado a Ustedes para intentar crear un modelo de aprendizaje de máquina (ML) que pueda ayudar a detectar muestras de vino de calidad baja (\"fraude\").  Quieren saber si siquiera es posible detectar tal diferencia.  \n",
        "\n",
        "\n",
        "Fuente de datos: *P. Cortez, A. Cerdeira, F. Almeida, T. Matos and J. Reis. Modeling wine preferences by data mining from physicochemical properties.\n",
        "In Decision Support Systems, Elsevier, 47(4):547-553, 2009.*\n",
        "\n",
        "---\n",
        "---\n",
        "\n",
        "**La meta general es utilizar el conjunto de datos adjunto para desarrollar un modelo que intenta predecir si un vino es legítimo \"Legit\" o fraudulento \"Fraud\" basado en varias características químicas.**\n",
        "\n",
        "---\n",
        "---"
      ]
    },
    {
      "cell_type": "markdown",
      "metadata": {
        "id": "ac_wexOZfaGT"
      },
      "source": [
        "**Rubrica**\n",
        "\n",
        "**(50 puntos) Análisis Exploratorio:**\n",
        "* Identifica el tipo de archivo .data y la forma de leerlo\n",
        "* Estudia las variables cuantitativas mediante técnicas de estadística descriptiva\n",
        "* Hace gráficos exploratorios como histogramas, diagramas de cajas y bigotes, gráficos de dispersión que ayudan a explicar los datos\n",
        "* Analiza las correlaciones entre las variables, trata de explicar los outliers (datos atípicos) y toma decisiones acertadas ante la presencia de valores faltantes.\n",
        "* Estudia las variables categóricas\n",
        "* Elabora gráficos de barra, tablas de frecuencia y de proporciones\n",
        "* Elabora gráficos adecuados según el tipo de dato que representan\n",
        "* Explica muy bien todos los procedimientos y los hallazgos que va haciendo.\n",
        "* Realiza la limpieza de datos para que se tenga un conjunto de datos que permita usar modelos\n",
        "\n",
        "**(36 puntos) Clasificación**\n",
        "* Realiza varios modelos de Clasificación, analiza los resultados para identificar el de mejor rendimiento\n",
        "        \n",
        "**(14 puntos) Hallazgos y conclusiones.**\n",
        "* Hace la recomendación correcta para la Compañía Distribuidora"
      ]
    },
    {
      "cell_type": "markdown",
      "source": [
        "# Análisis exploratorio"
      ],
      "metadata": {
        "id": "2Z-5j2t5iNoW"
      }
    },
    {
      "cell_type": "code",
      "execution_count": null,
      "metadata": {
        "id": "ZIJypWTAfaGU"
      },
      "outputs": [],
      "source": [
        "# Se importan las librerias que permitiran leer el archivo\n",
        "import pandas as pd\n",
        "import numpy as np\n",
        "import seaborn as sns\n",
        "import matplotlib.pyplot as plt"
      ]
    },
    {
      "cell_type": "markdown",
      "metadata": {
        "id": "BTnEyRKFfaGU"
      },
      "source": [
        "**NOTA:  Al usar SVC, anteriormente hemos dejado el modelo en blanco, (e.g. sin parámeteros).  Sin embargo, en estos datos las clases no están balanceadas.  Para intentar remediar este problema, podemos ajustar automáticamente los pesos de forma inversamente proporcional a las frecuencias de las clases en los datos con una llamada en la invocación de SVC().  Ver la [documentation for SVC](https://scikit-learn.org/stable/modules/generated/sklearn.svm.SVC.html) en-línea y averiguen cuál es el argumento\\parámetro.**"
      ]
    }
  ],
  "metadata": {
    "anaconda-cloud": {},
    "kernelspec": {
      "display_name": "Python 3 (ipykernel)",
      "language": "python",
      "name": "python3"
    },
    "language_info": {
      "codemirror_mode": {
        "name": "ipython",
        "version": 3
      },
      "file_extension": ".py",
      "mimetype": "text/x-python",
      "name": "python",
      "nbconvert_exporter": "python",
      "pygments_lexer": "ipython3",
      "version": "3.9.15"
    },
    "colab": {
      "provenance": [],
      "include_colab_link": true
    }
  },
  "nbformat": 4,
  "nbformat_minor": 0
}